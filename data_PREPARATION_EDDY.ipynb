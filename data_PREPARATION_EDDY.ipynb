{
 "cells": [
  {
   "cell_type": "code",
   "execution_count": 37,
   "metadata": {},
   "outputs": [],
   "source": [
    "import pandas as pd\n",
    "import numpy as np\n",
    "import matplotlib.pyplot as plt\n",
    "import seaborn as sns\n",
    "from scipy.stats import gaussian_kde\n",
    "plt.style.use('ggplot')"
   ]
  },
  {
   "attachments": {},
   "cell_type": "markdown",
   "metadata": {},
   "source": [
    "# Collecting initial data\n",
    "\n",
    "we are using __existing data__, provided by the contractor as part of the project.\n",
    "\n",
    "we can find in the dataset 79 unique attributes."
   ]
  },
  {
   "attachments": {},
   "cell_type": "markdown",
   "metadata": {},
   "source": [
    "# Describe data"
   ]
  },
  {
   "cell_type": "code",
   "execution_count": 38,
   "metadata": {},
   "outputs": [
    {
     "name": "stderr",
     "output_type": "stream",
     "text": [
      "/home/eddy/.local/lib/python3.10/site-packages/IPython/core/interactiveshell.py:3508: FutureWarning: In a future version of pandas all arguments of read_csv except for the argument 'filepath_or_buffer' will be keyword-only\n",
      "  exec(code_obj, self.user_global_ns, self.user_ns)\n"
     ]
    },
    {
     "data": {
      "text/html": [
       "<div>\n",
       "<style scoped>\n",
       "    .dataframe tbody tr th:only-of-type {\n",
       "        vertical-align: middle;\n",
       "    }\n",
       "\n",
       "    .dataframe tbody tr th {\n",
       "        vertical-align: top;\n",
       "    }\n",
       "\n",
       "    .dataframe thead th {\n",
       "        text-align: right;\n",
       "    }\n",
       "</style>\n",
       "<table border=\"1\" class=\"dataframe\">\n",
       "  <thead>\n",
       "    <tr style=\"text-align: right;\">\n",
       "      <th></th>\n",
       "      <th>Heating</th>\n",
       "      <th>HeatingQC</th>\n",
       "      <th>CentralAir</th>\n",
       "      <th>Electrical</th>\n",
       "      <th>1stFlrSF</th>\n",
       "      <th>2ndFlrSF</th>\n",
       "      <th>LowQualFinSF</th>\n",
       "      <th>GrLivArea</th>\n",
       "      <th>BsmtFullBath</th>\n",
       "      <th>BsmtHalfBath</th>\n",
       "      <th>...</th>\n",
       "      <th>HalfBath</th>\n",
       "      <th>BedroomAbvGr</th>\n",
       "      <th>KitchenAbvGr</th>\n",
       "      <th>KitchenQual</th>\n",
       "      <th>TotRmsAbvGrd</th>\n",
       "      <th>Functional</th>\n",
       "      <th>Fireplaces</th>\n",
       "      <th>FireplaceQu</th>\n",
       "      <th>GarageType</th>\n",
       "      <th>GarageYrBlt</th>\n",
       "    </tr>\n",
       "  </thead>\n",
       "  <tbody>\n",
       "    <tr>\n",
       "      <th>0</th>\n",
       "      <td>0</td>\n",
       "      <td>0</td>\n",
       "      <td>0</td>\n",
       "      <td>0.0</td>\n",
       "      <td>856</td>\n",
       "      <td>854</td>\n",
       "      <td>0</td>\n",
       "      <td>1710</td>\n",
       "      <td>1</td>\n",
       "      <td>0</td>\n",
       "      <td>...</td>\n",
       "      <td>1</td>\n",
       "      <td>3</td>\n",
       "      <td>1</td>\n",
       "      <td>1</td>\n",
       "      <td>8</td>\n",
       "      <td>0</td>\n",
       "      <td>0</td>\n",
       "      <td>NaN</td>\n",
       "      <td>Attchd</td>\n",
       "      <td>2003.0</td>\n",
       "    </tr>\n",
       "    <tr>\n",
       "      <th>1</th>\n",
       "      <td>0</td>\n",
       "      <td>0</td>\n",
       "      <td>0</td>\n",
       "      <td>0.0</td>\n",
       "      <td>1262</td>\n",
       "      <td>0</td>\n",
       "      <td>0</td>\n",
       "      <td>1262</td>\n",
       "      <td>0</td>\n",
       "      <td>1</td>\n",
       "      <td>...</td>\n",
       "      <td>0</td>\n",
       "      <td>3</td>\n",
       "      <td>1</td>\n",
       "      <td>2</td>\n",
       "      <td>6</td>\n",
       "      <td>0</td>\n",
       "      <td>1</td>\n",
       "      <td>2.0</td>\n",
       "      <td>Attchd</td>\n",
       "      <td>1976.0</td>\n",
       "    </tr>\n",
       "    <tr>\n",
       "      <th>2</th>\n",
       "      <td>0</td>\n",
       "      <td>0</td>\n",
       "      <td>0</td>\n",
       "      <td>0.0</td>\n",
       "      <td>920</td>\n",
       "      <td>866</td>\n",
       "      <td>0</td>\n",
       "      <td>1786</td>\n",
       "      <td>1</td>\n",
       "      <td>0</td>\n",
       "      <td>...</td>\n",
       "      <td>1</td>\n",
       "      <td>3</td>\n",
       "      <td>1</td>\n",
       "      <td>1</td>\n",
       "      <td>6</td>\n",
       "      <td>0</td>\n",
       "      <td>1</td>\n",
       "      <td>2.0</td>\n",
       "      <td>Attchd</td>\n",
       "      <td>2001.0</td>\n",
       "    </tr>\n",
       "    <tr>\n",
       "      <th>3</th>\n",
       "      <td>0</td>\n",
       "      <td>1</td>\n",
       "      <td>0</td>\n",
       "      <td>0.0</td>\n",
       "      <td>961</td>\n",
       "      <td>756</td>\n",
       "      <td>0</td>\n",
       "      <td>1717</td>\n",
       "      <td>1</td>\n",
       "      <td>0</td>\n",
       "      <td>...</td>\n",
       "      <td>0</td>\n",
       "      <td>3</td>\n",
       "      <td>1</td>\n",
       "      <td>1</td>\n",
       "      <td>7</td>\n",
       "      <td>0</td>\n",
       "      <td>1</td>\n",
       "      <td>1.0</td>\n",
       "      <td>Detchd</td>\n",
       "      <td>1998.0</td>\n",
       "    </tr>\n",
       "    <tr>\n",
       "      <th>4</th>\n",
       "      <td>0</td>\n",
       "      <td>0</td>\n",
       "      <td>0</td>\n",
       "      <td>0.0</td>\n",
       "      <td>1145</td>\n",
       "      <td>1053</td>\n",
       "      <td>0</td>\n",
       "      <td>2198</td>\n",
       "      <td>1</td>\n",
       "      <td>0</td>\n",
       "      <td>...</td>\n",
       "      <td>1</td>\n",
       "      <td>4</td>\n",
       "      <td>1</td>\n",
       "      <td>1</td>\n",
       "      <td>9</td>\n",
       "      <td>0</td>\n",
       "      <td>1</td>\n",
       "      <td>2.0</td>\n",
       "      <td>Attchd</td>\n",
       "      <td>2000.0</td>\n",
       "    </tr>\n",
       "  </tbody>\n",
       "</table>\n",
       "<p>5 rows × 21 columns</p>\n",
       "</div>"
      ],
      "text/plain": [
       "  Heating  HeatingQC  CentralAir  Electrical  1stFlrSF  2ndFlrSF  \\\n",
       "0       0          0           0         0.0       856       854   \n",
       "1       0          0           0         0.0      1262         0   \n",
       "2       0          0           0         0.0       920       866   \n",
       "3       0          1           0         0.0       961       756   \n",
       "4       0          0           0         0.0      1145      1053   \n",
       "\n",
       "   LowQualFinSF  GrLivArea  BsmtFullBath  BsmtHalfBath  ...  HalfBath  \\\n",
       "0             0       1710             1             0  ...         1   \n",
       "1             0       1262             0             1  ...         0   \n",
       "2             0       1786             1             0  ...         1   \n",
       "3             0       1717             1             0  ...         0   \n",
       "4             0       2198             1             0  ...         1   \n",
       "\n",
       "   BedroomAbvGr  KitchenAbvGr  KitchenQual  TotRmsAbvGrd  Functional  \\\n",
       "0             3             1            1             8           0   \n",
       "1             3             1            2             6           0   \n",
       "2             3             1            1             6           0   \n",
       "3             3             1            1             7           0   \n",
       "4             4             1            1             9           0   \n",
       "\n",
       "   Fireplaces  FireplaceQu  GarageType GarageYrBlt  \n",
       "0           0          NaN      Attchd      2003.0  \n",
       "1           1          2.0      Attchd      1976.0  \n",
       "2           1          2.0      Attchd      2001.0  \n",
       "3           1          1.0      Detchd      1998.0  \n",
       "4           1          2.0      Attchd      2000.0  \n",
       "\n",
       "[5 rows x 21 columns]"
      ]
     },
     "execution_count": 38,
     "metadata": {},
     "output_type": "execute_result"
    }
   ],
   "source": [
    "data = pd.read_csv('train.csv', ',')\n",
    "columns_20_to_40 = data.iloc[:, 39:60]\n",
    "columns_20_to_40.head()\n"
   ]
  },
  {
   "attachments": {},
   "cell_type": "markdown",
   "metadata": {},
   "source": [
    "## Amount of data"
   ]
  },
  {
   "cell_type": "code",
   "execution_count": 39,
   "metadata": {},
   "outputs": [
    {
     "data": {
      "text/plain": [
       "30660"
      ]
     },
     "metadata": {},
     "output_type": "display_data"
    },
    {
     "data": {
      "text/plain": [
       "<bound method DataFrame.info of      Heating  HeatingQC  CentralAir  Electrical  1stFlrSF  2ndFlrSF  \\\n",
       "0          0          0           0         0.0       856       854   \n",
       "1          0          0           0         0.0      1262         0   \n",
       "2          0          0           0         0.0       920       866   \n",
       "3          0          1           0         0.0       961       756   \n",
       "4          0          0           0         0.0      1145      1053   \n",
       "...      ...        ...         ...         ...       ...       ...   \n",
       "1455       0          0           0         0.0       953       694   \n",
       "1456       0          2           0         0.0      2073         0   \n",
       "1457       0          0           0         0.0      1188      1152   \n",
       "1458       0          1           0         1.0      1078         0   \n",
       "1459       0          1           0         0.0      1256         0   \n",
       "\n",
       "      LowQualFinSF  GrLivArea  BsmtFullBath  BsmtHalfBath  ...  HalfBath  \\\n",
       "0                0       1710             1             0  ...         1   \n",
       "1                0       1262             0             1  ...         0   \n",
       "2                0       1786             1             0  ...         1   \n",
       "3                0       1717             1             0  ...         0   \n",
       "4                0       2198             1             0  ...         1   \n",
       "...            ...        ...           ...           ...  ...       ...   \n",
       "1455             0       1647             0             0  ...         1   \n",
       "1456             0       2073             1             0  ...         0   \n",
       "1457             0       2340             0             0  ...         0   \n",
       "1458             0       1078             1             0  ...         0   \n",
       "1459             0       1256             1             0  ...         1   \n",
       "\n",
       "      BedroomAbvGr  KitchenAbvGr  KitchenQual  TotRmsAbvGrd  Functional  \\\n",
       "0                3             1            1             8           0   \n",
       "1                3             1            2             6           0   \n",
       "2                3             1            1             6           0   \n",
       "3                3             1            1             7           0   \n",
       "4                4             1            1             9           0   \n",
       "...            ...           ...          ...           ...         ...   \n",
       "1455             3             1            2             7           0   \n",
       "1456             3             1            2             7           1   \n",
       "1457             4             1            1             9           0   \n",
       "1458             2             1            1             5           0   \n",
       "1459             3             1            2             6           0   \n",
       "\n",
       "      Fireplaces  FireplaceQu  GarageType GarageYrBlt  \n",
       "0              0          NaN      Attchd      2003.0  \n",
       "1              1          2.0      Attchd      1976.0  \n",
       "2              1          2.0      Attchd      2001.0  \n",
       "3              1          1.0      Detchd      1998.0  \n",
       "4              1          2.0      Attchd      2000.0  \n",
       "...          ...          ...         ...         ...  \n",
       "1455           1          2.0      Attchd      1999.0  \n",
       "1456           2          2.0      Attchd      1978.0  \n",
       "1457           2          1.0      Attchd      1941.0  \n",
       "1458           0          NaN      Attchd      1950.0  \n",
       "1459           0          NaN      Attchd      1965.0  \n",
       "\n",
       "[1460 rows x 21 columns]>"
      ]
     },
     "metadata": {},
     "output_type": "display_data"
    }
   ],
   "source": [
    "display(columns_20_to_40.size, columns_20_to_40.info)"
   ]
  },
  {
   "attachments": {},
   "cell_type": "markdown",
   "metadata": {},
   "source": [
    "## Value types"
   ]
  },
  {
   "cell_type": "code",
   "execution_count": 40,
   "metadata": {},
   "outputs": [
    {
     "data": {
      "text/plain": [
       "Index(['Heating', 'HeatingQC', 'CentralAir', 'Electrical', '1stFlrSF',\n",
       "       '2ndFlrSF', 'LowQualFinSF', 'GrLivArea', 'BsmtFullBath', 'BsmtHalfBath',\n",
       "       'FullBath', 'HalfBath', 'BedroomAbvGr', 'KitchenAbvGr', 'KitchenQual',\n",
       "       'TotRmsAbvGrd', 'Functional', 'Fireplaces', 'FireplaceQu', 'GarageType',\n",
       "       'GarageYrBlt'],\n",
       "      dtype='object')"
      ]
     },
     "execution_count": 40,
     "metadata": {},
     "output_type": "execute_result"
    }
   ],
   "source": [
    "columns_20_to_40.columns"
   ]
  },
  {
   "cell_type": "code",
   "execution_count": 41,
   "metadata": {},
   "outputs": [
    {
     "data": {
      "text/plain": [
       "Heating          object\n",
       "HeatingQC         int64\n",
       "CentralAir        int64\n",
       "Electrical      float64\n",
       "1stFlrSF          int64\n",
       "2ndFlrSF          int64\n",
       "LowQualFinSF      int64\n",
       "GrLivArea         int64\n",
       "BsmtFullBath      int64\n",
       "BsmtHalfBath      int64\n",
       "FullBath          int64\n",
       "HalfBath          int64\n",
       "BedroomAbvGr      int64\n",
       "KitchenAbvGr      int64\n",
       "KitchenQual       int64\n",
       "TotRmsAbvGrd      int64\n",
       "Functional        int64\n",
       "Fireplaces        int64\n",
       "FireplaceQu     float64\n",
       "GarageType       object\n",
       "GarageYrBlt     float64\n",
       "dtype: object"
      ]
     },
     "execution_count": 41,
     "metadata": {},
     "output_type": "execute_result"
    }
   ],
   "source": [
    "columns_20_to_40.dtypes"
   ]
  },
  {
   "attachments": {},
   "cell_type": "markdown",
   "metadata": {},
   "source": [
    "## Coding scheme\n",
    "\n",
    "no enconding conflict found, because it's provided by the contractor and probably has been cleaned before hand.\n",
    "\n",
    "**in the data description we have an explanation of all data meaning which is really nice**"
   ]
  },
  {
   "cell_type": "code",
   "execution_count": 42,
   "metadata": {},
   "outputs": [
    {
     "name": "stdout",
     "output_type": "stream",
     "text": [
      "Heating  :  ['0' '1' 'Grav' '3' 'OthW' 'Floor']\n",
      "HeatingQC  :  [0 1 2 3 4]\n",
      "CentralAir  :  [0 1]\n",
      "Electrical  :  [ 0.  2.  1.  3.  4. nan]\n",
      "1stFlrSF  :  int64\n",
      "2ndFlrSF  :  int64\n",
      "LowQualFinSF  :  int64\n",
      "GrLivArea  :  int64\n",
      "BsmtFullBath  :  [1 0 2 3]\n",
      "BsmtHalfBath  :  [0 1 2]\n",
      "FullBath  :  [2 1 3 0]\n",
      "HalfBath  :  [1 0 2]\n",
      "BedroomAbvGr  :  [3 4 1 2 0 5 6 8]\n",
      "KitchenAbvGr  :  [1 2 3 0]\n",
      "KitchenQual  :  [1 2 0 3]\n",
      "TotRmsAbvGrd  :  int64\n",
      "Functional  :  [0 1 4 2 3 5 6]\n",
      "Fireplaces  :  [0 1 2 3]\n",
      "FireplaceQu  :  [nan  2.  1.  3.  0.  4.]\n",
      "GarageType  :  ['Attchd' 'Detchd' 'BuiltIn' 'CarPort' nan 'Basment' '2Types']\n",
      "GarageYrBlt  :  float64\n"
     ]
    }
   ],
   "source": [
    "for column in columns_20_to_40.columns:\n",
    "    if (len(columns_20_to_40[column].unique()) <= 10):\n",
    "        print(column, ' : ', columns_20_to_40[column].unique())\n",
    "    else:\n",
    "        print(column, ' : ', columns_20_to_40[column].dtypes)"
   ]
  },
  {
   "attachments": {},
   "cell_type": "markdown",
   "metadata": {},
   "source": [
    "### Missing Values ?\n",
    "\n",
    "TODO\n",
    "\n",
    "- check NA values\n",
    "- change object dtypes in categorical"
   ]
  },
  {
   "cell_type": "code",
   "execution_count": 43,
   "metadata": {},
   "outputs": [
    {
     "name": "stdout",
     "output_type": "stream",
     "text": [
      "column with missing values Electrical  :  1\n",
      "column with missing values FireplaceQu  :  690\n",
      "column with missing values GarageType  :  81\n",
      "column with missing values GarageYrBlt  :  81\n"
     ]
    }
   ],
   "source": [
    "for column in columns_20_to_40.columns:\n",
    "    if not columns_20_to_40[column].isna().sum() == 0:\n",
    "        print('column with missing values', column, ' : ', columns_20_to_40[column].isna().sum())"
   ]
  },
  {
   "cell_type": "code",
   "execution_count": 44,
   "metadata": {},
   "outputs": [],
   "source": [
    "data['PriceType'] = np.where(\n",
    "                            data['SalePrice'] >= 300000,\n",
    "                            'HIGH',\n",
    "                            np.where(\n",
    "                                data['SalePrice'] <= 150000,\n",
    "                                'LOW',\n",
    "                                'MEDIUM'\n",
    "                                )\n",
    "                            )"
   ]
  },
  {
   "attachments": {},
   "cell_type": "markdown",
   "metadata": {},
   "source": [
    "## CATEGORICAL plot"
   ]
  },
  {
   "cell_type": "code",
   "execution_count": 45,
   "metadata": {},
   "outputs": [],
   "source": [
    "\n",
    "def data_show_categorical(attribute, title=None):\n",
    "    # previous plots\n",
    "    #plt.rcParams.update({'font.size': 5})\n",
    "    #data['SalePrice'].hist(by=data[attribute])\n",
    "\n",
    "    data[attribute].value_counts().plot(kind = 'bar')\n",
    "    plt.show()\n",
    "    data.groupby([attribute, 'PriceType']).size().unstack().plot(kind='bar', stacked=True, title=title)\n",
    "\n",
    "def data_show_categorical_compare(attribute, attribute2, title=None):\n",
    "    data.groupby([attribute, 'PriceType', attribute2]).size().unstack().plot(kind='bar', stacked=True, title=title)"
   ]
  },
  {
   "attachments": {},
   "cell_type": "markdown",
   "metadata": {},
   "source": [
    "## NUMERIC plot"
   ]
  },
  {
   "cell_type": "code",
   "execution_count": 46,
   "metadata": {},
   "outputs": [],
   "source": [
    "def data_show_numerical(attribute):\n",
    "    # first plot\n",
    "    data.plot(kind = 'scatter', x = attribute, y = 'SalePrice')\n",
    "    plt.show()\n",
    "\n",
    "    # second plot\n",
    "    tmp_data = data.dropna(subset=[attribute])\n",
    "\n",
    "    xy = np.vstack([tmp_data[attribute], tmp_data['SalePrice']])\n",
    "    z = gaussian_kde(xy)(xy)\n",
    "\n",
    "    fig, ax = plt.subplots()\n",
    "    ax.scatter(tmp_data[attribute], tmp_data['SalePrice'], c=z, s=10)\n",
    "    plt.show()\n",
    "\n",
    "    # third plot\n",
    "    data[attribute].plot.kde()\n",
    "\n",
    "def data_show_numerical2(attribute):\n",
    "    sns.catplot(x=attribute, y='PriceType', data=data, palette='Spectral')\n",
    "    plt.show()\n",
    "\n",
    "def data_show_numerical_compare(attribute, attribute2, title=None):\n",
    "    # sns.catplot(data=data, x=attribute, y=\"SalePrice\", kind=\"swarm\", title=title)\n",
    "    sns.lmplot(x=attribute, y='SalePrice', data=data, hue=attribute2, fit_reg=False, palette='flare')\n",
    "    plt.show()\n",
    "\n",
    "def data_show_numerical_compare2(attribute, attribute2, title=None):\n",
    "    # sns.catplot(data=data, x=attribute, y=\"SalePrice\", kind=\"swarm\", title=title)\n",
    "    sns.catplot(x=attribute, y='PriceType', data=data, hue=attribute2, palette='dark:#5A9_r')\n",
    "    plt.show()\n",
    "\n",
    "def data_show_numerical_compare3(attribute, attribute2, title=None):\n",
    "    # sns.catplot(data=data, x=attribute, y=\"SalePrice\", kind=\"swarm\", title=title)\n",
    "    sns.catplot(x=attribute, y='PriceType', data=data, hue=attribute2, palette='ch:s=.25,rot=-.25', kind='box')\n",
    "    plt.show()"
   ]
  },
  {
   "attachments": {},
   "cell_type": "markdown",
   "metadata": {},
   "source": [
    "## BINARIZATION functions\n"
   ]
  },
  {
   "cell_type": "code",
   "execution_count": 47,
   "metadata": {},
   "outputs": [
    {
     "name": "stdout",
     "output_type": "stream",
     "text": [
      "        Id  MSSubClass MSZoning  LotFrontage  LotArea Street Alley LotShape  \\\n",
      "0        1          60       RL         65.0     8450   Pave   NaN      Reg   \n",
      "1        2          20       RL         80.0     9600   Pave   NaN      Reg   \n",
      "2        3          60       RL         68.0    11250   Pave   NaN      IR1   \n",
      "3        4          70       RL         60.0     9550   Pave   NaN      IR1   \n",
      "4        5          60       RL         84.0    14260   Pave   NaN      IR1   \n",
      "...    ...         ...      ...          ...      ...    ...   ...      ...   \n",
      "1455  1456          60       RL         62.0     7917   Pave   NaN      Reg   \n",
      "1456  1457          20       RL         85.0    13175   Pave   NaN      Reg   \n",
      "1457  1458          70       RL         66.0     9042   Pave   NaN      Reg   \n",
      "1458  1459          20       RL         68.0     9717   Pave   NaN      Reg   \n",
      "1459  1460          20       RL         75.0     9937   Pave   NaN      Reg   \n",
      "\n",
      "     LandContour Utilities  ... PoolQC  Fence MiscFeature MiscVal MoSold  \\\n",
      "0            Lvl    AllPub  ...    NaN    NaN         NaN       0      2   \n",
      "1            Lvl    AllPub  ...    NaN    NaN         NaN       0      5   \n",
      "2            Lvl    AllPub  ...    NaN    NaN         NaN       0      9   \n",
      "3            Lvl    AllPub  ...    NaN    NaN         NaN       0      2   \n",
      "4            Lvl    AllPub  ...    NaN    NaN         NaN       0     12   \n",
      "...          ...       ...  ...    ...    ...         ...     ...    ...   \n",
      "1455         Lvl    AllPub  ...    NaN    NaN         NaN       0      8   \n",
      "1456         Lvl    AllPub  ...    NaN  MnPrv         NaN       0      2   \n",
      "1457         Lvl    AllPub  ...    NaN  GdPrv        Shed    2500      5   \n",
      "1458         Lvl    AllPub  ...    NaN    NaN         NaN       0      4   \n",
      "1459         Lvl    AllPub  ...    NaN    NaN         NaN       0      6   \n",
      "\n",
      "     YrSold SaleType  SaleCondition  SalePrice  PriceType  \n",
      "0      2008       WD         Normal     208500     MEDIUM  \n",
      "1      2007       WD         Normal     181500     MEDIUM  \n",
      "2      2008       WD         Normal     223500     MEDIUM  \n",
      "3      2006       WD        Abnorml     140000        LOW  \n",
      "4      2008       WD         Normal     250000     MEDIUM  \n",
      "...     ...      ...            ...        ...        ...  \n",
      "1455   2007       WD         Normal     175000     MEDIUM  \n",
      "1456   2010       WD         Normal     210000     MEDIUM  \n",
      "1457   2010       WD         Normal     266500     MEDIUM  \n",
      "1458   2010       WD         Normal     142125        LOW  \n",
      "1459   2008       WD         Normal     147500        LOW  \n",
      "\n",
      "[1460 rows x 82 columns]\n"
     ]
    }
   ],
   "source": [
    "# updating the column value/data\n",
    "# columns_20_to_40['column'] = columns_20_to_40['column'].replace({'BaseValue': 'NewValue'})\n",
    "data['Heating'] = data['Heating'].replace({'GasA': '0','GasW': '1','GraV': '2','Wall': '3'})\n",
    "data['HeatingQC'] = data['HeatingQC'].replace({'Ex': '0','Gd': '1','TA': '2','Fa': '3','Po': '4'})\n",
    "data['CentralAir'] = data['CentralAir'].replace({'Y': '0','N': '1'})\n",
    "data['Electrical'] = data['Electrical'].replace({'SBrkr': '0','FuseA': '1','FuseF': '2','FuseP': '3','Mix': '4'})\n",
    "data['KitchenQual'] = data['KitchenQual'].replace({'Ex': '0','Gd': '1','TA': '2','Fa': '3','Po': '4'})\n",
    "data['Functional'] = data['Functional'].replace({'Typ': '0','Min1': '1','Min2': '2','Mod': '3','Maj1': '4','Maj2': '5','Sev': '6','Sal': '7'})\n",
    "data['FireplaceQu'] = data['FireplaceQu'].replace({'Ex': '0','Gd': '1','TA': '2','Fa': '3','Po': '4'})\n",
    "# writing into the file\n",
    "data.to_csv(\"train.csv\", index=False)\n",
    "  \n",
    "print(data)"
   ]
  }
 ],
 "metadata": {
  "kernelspec": {
   "display_name": "eip_1",
   "language": "python",
   "name": "python3"
  },
  "language_info": {
   "codemirror_mode": {
    "name": "ipython",
    "version": 3
   },
   "file_extension": ".py",
   "mimetype": "text/x-python",
   "name": "python",
   "nbconvert_exporter": "python",
   "pygments_lexer": "ipython3",
   "version": "3.10.6"
  },
  "orig_nbformat": 4
 },
 "nbformat": 4,
 "nbformat_minor": 2
}
